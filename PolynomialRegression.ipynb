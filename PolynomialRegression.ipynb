{
 "cells": [
  {
   "cell_type": "code",
   "execution_count": 1,
   "metadata": {},
   "outputs": [],
   "source": [
    "import pandas as pd\n",
    "import numpy as np\n",
    "import matplotlib.pyplot as plt\n",
    "import math"
   ]
  },
  {
   "cell_type": "code",
   "execution_count": 22,
   "metadata": {},
   "outputs": [],
   "source": [
    "x = np.linspace(0,1, num=10)"
   ]
  },
  {
   "cell_type": "code",
   "execution_count": 23,
   "metadata": {},
   "outputs": [
    {
     "name": "stdout",
     "output_type": "stream",
     "text": [
      "[0.         0.11111111 0.22222222 0.33333333 0.44444444 0.55555556\n",
      " 0.66666667 0.77777778 0.88888889 1.        ]\n"
     ]
    }
   ],
   "source": [
    "print(x)"
   ]
  },
  {
   "cell_type": "code",
   "execution_count": 24,
   "metadata": {},
   "outputs": [],
   "source": [
    "y = np.cos(2*np.pi*x) + np.cos(6*np.pi*x)"
   ]
  },
  {
   "cell_type": "code",
   "execution_count": 25,
   "metadata": {},
   "outputs": [
    {
     "name": "stdout",
     "output_type": "stream",
     "text": [
      "[ 2.          0.26604444 -0.32635182  0.5        -1.43969262 -1.43969262\n",
      "  0.5        -0.32635182  0.26604444  2.        ]\n"
     ]
    }
   ],
   "source": [
    "print(y)"
   ]
  },
  {
   "cell_type": "code",
   "execution_count": 26,
   "metadata": {},
   "outputs": [
    {
     "data": {
      "text/plain": [
       "[<matplotlib.lines.Line2D at 0x16c13be6488>]"
      ]
     },
     "execution_count": 26,
     "metadata": {},
     "output_type": "execute_result"
    },
    {
     "data": {
      "image/png": "[encoded data removed]",
      "text/plain": [
       "<Figure size 432x288 with 1 Axes>"
      ]
     },
     "metadata": {
      "needs_background": "light"
     },
     "output_type": "display_data"
    }
   ],
   "source": [
    "plt.plot(x,y)"
   ]
  },
  {
   "cell_type": "code",
   "execution_count": 27,
   "metadata": {},
   "outputs": [
    {
     "data": {
      "text/plain": [
       "<matplotlib.collections.PathCollection at 0x16c13cc90c8>"
      ]
     },
     "execution_count": 27,
     "metadata": {},
     "output_type": "execute_result"
    },
    {
     "data": {
      "image/png": "[encoded data removed]",
      "text/plain": [
       "<Figure size 432x288 with 1 Axes>"
      ]
     },
     "metadata": {
      "needs_background": "light"
     },
     "output_type": "display_data"
    }
   ],
   "source": [
    "plt.scatter(x,y)"
   ]
  },
  {
   "cell_type": "code",
   "execution_count": 28,
   "metadata": {},
   "outputs": [
    {
     "data": {
      "text/plain": [
       "array([[1.00000000e+00, 0.00000000e+00, 0.00000000e+00, 0.00000000e+00,\n",
       "        0.00000000e+00, 0.00000000e+00, 0.00000000e+00, 0.00000000e+00,\n",
       "        0.00000000e+00, 0.00000000e+00],\n",
       "       [1.00000000e+00, 1.11111111e-01, 1.23456790e-02, 1.37174211e-03,\n",
       "        1.52415790e-04, 1.69350878e-05, 1.88167642e-06, 2.09075158e-07,\n",
       "        2.32305731e-08, 2.58117479e-09],\n",
       "       [1.00000000e+00, 2.22222222e-01, 4.93827160e-02, 1.09739369e-02,\n",
       "        2.43865264e-03, 5.41922810e-04, 1.20427291e-04, 2.67616202e-05,\n",
       "        5.94702672e-06, 1.32156149e-06],\n",
       "       [1.00000000e+00, 3.33333333e-01, 1.11111111e-01, 3.70370370e-02,\n",
       "        1.23456790e-02, 4.11522634e-03, 1.37174211e-03, 4.57247371e-04,\n",
       "        1.52415790e-04, 5.08052634e-05],\n",
       "       [1.00000000e+00, 4.44444444e-01, 1.97530864e-01, 8.77914952e-02,\n",
       "        3.90184423e-02, 1.73415299e-02, 7.70734663e-03, 3.42548739e-03,\n",
       "        1.52243884e-03, 6.76639485e-04],\n",
       "       [1.00000000e+00, 5.55555556e-01, 3.08641975e-01, 1.71467764e-01,\n",
       "        9.52598689e-02, 5.29221494e-02, 2.94011941e-02, 1.63339967e-02,\n",
       "        9.07444263e-03, 5.04135702e-03],\n",
       "       [1.00000000e+00, 6.66666667e-01, 4.44444444e-01, 2.96296296e-01,\n",
       "        1.97530864e-01, 1.31687243e-01, 8.77914952e-02, 5.85276635e-02,\n",
       "        3.90184423e-02, 2.60122949e-02],\n",
       "       [1.00000000e+00, 7.77777778e-01, 6.04938272e-01, 4.70507545e-01,\n",
       "        3.65950312e-01, 2.84628021e-01, 2.21377350e-01, 1.72182383e-01,\n",
       "        1.33919631e-01, 1.04159713e-01],\n",
       "       [1.00000000e+00, 8.88888889e-01, 7.90123457e-01, 7.02331962e-01,\n",
       "        6.24295077e-01, 5.54928957e-01, 4.93270184e-01, 4.38462386e-01,\n",
       "        3.89744343e-01, 3.46439416e-01],\n",
       "       [1.00000000e+00, 1.00000000e+00, 1.00000000e+00, 1.00000000e+00,\n",
       "        1.00000000e+00, 1.00000000e+00, 1.00000000e+00, 1.00000000e+00,\n",
       "        1.00000000e+00, 1.00000000e+00]])"
      ]
     },
     "execution_count": 28,
     "metadata": {},
     "output_type": "execute_result"
    }
   ],
   "source": [
    "n=10\n",
    "A = np.vander(x, n, increasing=True)\n",
    "A"
   ]
  },
  {
   "cell_type": "code",
   "execution_count": 29,
   "metadata": {},
   "outputs": [
    {
     "data": {
      "text/plain": [
       "(10, 10)"
      ]
     },
     "execution_count": 29,
     "metadata": {},
     "output_type": "execute_result"
    }
   ],
   "source": [
    "A.shape"
   ]
  },
  {
   "cell_type": "code",
   "execution_count": 30,
   "metadata": {},
   "outputs": [
    {
     "data": {
      "text/plain": [
       "(10,)"
      ]
     },
     "execution_count": 30,
     "metadata": {},
     "output_type": "execute_result"
    }
   ],
   "source": [
    "y.shape"
   ]
  },
  {
   "cell_type": "code",
   "execution_count": 42,
   "metadata": {},
   "outputs": [],
   "source": [
    "b1 = np.dot(A.T,A)"
   ]
  },
  {
   "cell_type": "code",
   "execution_count": 43,
   "metadata": {},
   "outputs": [
    {
     "data": {
      "text/plain": [
       "(10, 10)"
      ]
     },
     "execution_count": 43,
     "metadata": {},
     "output_type": "execute_result"
    }
   ],
   "source": [
    "b1.shape"
   ]
  },
  {
   "cell_type": "code",
   "execution_count": 44,
   "metadata": {},
   "outputs": [
    {
     "data": {
      "text/plain": [
       "array([[10.        ,  5.        ,  3.51851852,  2.77777778,  2.33699131,\n",
       "         2.04618198,  1.84104162,  1.68941613,  1.57343768,  1.48238155],\n",
       "       [ 5.        ,  3.51851852,  2.77777778,  2.33699131,  2.04618198,\n",
       "         1.84104162,  1.68941613,  1.57343768,  1.48238155,  1.4094195 ],\n",
       "       [ 3.51851852,  2.77777778,  2.33699131,  2.04618198,  1.84104162,\n",
       "         1.68941613,  1.57343768,  1.48238155,  1.4094195 ,  1.34999647],\n",
       "       [ 2.77777778,  2.33699131,  2.04618198,  1.84104162,  1.68941613,\n",
       "         1.57343768,  1.48238155,  1.4094195 ,  1.34999647,  1.30095648],\n",
       "       [ 2.33699131,  2.04618198,  1.84104162,  1.68941613,  1.57343768,\n",
       "         1.48238155,  1.4094195 ,  1.34999647,  1.30095648,  1.2600432 ],\n",
       "       [ 2.04618198,  1.84104162,  1.68941613,  1.57343768,  1.48238155,\n",
       "         1.4094195 ,  1.34999647,  1.30095648,  1.2600432 ,  1.22560027],\n",
       "       [ 1.84104162,  1.68941613,  1.57343768,  1.48238155,  1.4094195 ,\n",
       "         1.34999647,  1.30095648,  1.2600432 ,  1.22560027,  1.196384  ],\n",
       "       [ 1.68941613,  1.57343768,  1.48238155,  1.4094195 ,  1.34999647,\n",
       "         1.30095648,  1.2600432 ,  1.22560027,  1.196384  ,  1.17144225],\n",
       "       [ 1.57343768,  1.48238155,  1.4094195 ,  1.34999647,  1.30095648,\n",
       "         1.2600432 ,  1.22560027,  1.196384  ,  1.17144225,  1.15003358],\n",
       "       [ 1.48238155,  1.4094195 ,  1.34999647,  1.30095648,  1.2600432 ,\n",
       "         1.22560027,  1.196384  ,  1.17144225,  1.15003358,  1.13157203]])"
      ]
     },
     "execution_count": 44,
     "metadata": {},
     "output_type": "execute_result"
    }
   ],
   "source": [
    "b1"
   ]
  },
  {
   "cell_type": "code",
   "execution_count": 45,
   "metadata": {},
   "outputs": [],
   "source": [
    "c = np.linalg.inv(b1)"
   ]
  },
  {
   "cell_type": "code",
   "execution_count": 46,
   "metadata": {},
   "outputs": [],
   "source": [
    "d = np.dot(c,A.T)"
   ]
  },
  {
   "cell_type": "code",
   "execution_count": 47,
   "metadata": {},
   "outputs": [
    {
     "data": {
      "text/plain": [
       "(10, 10)"
      ]
     },
     "execution_count": 47,
     "metadata": {},
     "output_type": "execute_result"
    }
   ],
   "source": [
    "d.shape"
   ]
  },
  {
   "cell_type": "code",
   "execution_count": 52,
   "metadata": {},
   "outputs": [],
   "source": [
    "w = np.dot(d,y)"
   ]
  },
  {
   "cell_type": "code",
   "execution_count": 53,
   "metadata": {},
   "outputs": [
    {
     "data": {
      "text/plain": [
       "(10,)"
      ]
     },
     "execution_count": 53,
     "metadata": {},
     "output_type": "execute_result"
    }
   ],
   "source": [
    "w.shape"
   ]
  },
  {
   "cell_type": "code",
   "execution_count": 54,
   "metadata": {},
   "outputs": [
    {
     "data": {
      "image/png": "[encoded data removed]",
      "text/plain": [
       "<Figure size 432x288 with 1 Axes>"
      ]
     },
     "metadata": {
      "needs_background": "light"
     },
     "output_type": "display_data"
    }
   ],
   "source": [
    "plt.scatter(x, y, color='r')\n",
    "plt.plot(x, (np.dot(A, w)), color='b')\n",
    "plt.grid()"
   ]
  },
  {
   "cell_type": "code",
   "execution_count": null,
   "metadata": {},
   "outputs": [],
   "source": []
  }
 ],
 "metadata": {
  "kernelspec": {
   "display_name": "Python 3",
   "language": "python",
   "name": "python3"
  },
  "language_info": {
   "codemirror_mode": {
    "name": "ipython",
    "version": 3
   },
   "file_extension": ".py",
   "mimetype": "text/x-python",
   "name": "python",
   "nbconvert_exporter": "python",
   "pygments_lexer": "ipython3",
   "version": "3.7.10"
  }
 },
 "nbformat": 4,
 "nbformat_minor": 2
}
